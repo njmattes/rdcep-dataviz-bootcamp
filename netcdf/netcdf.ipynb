{
 "cells": [
  {
   "cell_type": "code",
   "execution_count": 2,
   "metadata": {
    "collapsed": true
   },
   "outputs": [
    {
     "name": "stdout",
     "output_type": "stream",
     "text": [
      "<class 'netCDF4._netCDF4.Dataset'>\nroot group (NETCDF4_CLASSIC data model, file format HDF5):\n    CDI: Climate Data Interface version 1.6.0 (http://code.zmaw.de/projects/cdi)\n    Conventions: CF-1.4\n    history: Thu Aug 07 11:05:13 2014: cdo monmean tasmin_hadgem2-es_rcp6p0_1950-2099.nc4 tasmin_hadgem2-es_rcp6p0_1950-2099_monthly.nc4\nFri Jun 22 16:38:00 2012: ncatted -O -a comment1,global,m,c,tasmin_v2 /iplex/01/2011/isimip/data/HadGEM2-ES_BC_new_6Jun/repacked/merged/tasmin_bced_1960_1999_hadgem2-es_historical_1950.nc\n    title: Model output climate of HadGEM2-ES r1i1p1 Interpolated to 0.5 degree and bias corrected using observations from 1960 - 1999 for EU WATCH project\n    comment1: tasmin_v2\n    CDO: Climate Data Operators version 1.6.0 (http://code.zmaw.de/projects/cdo)\n    dimensions(sizes): lat(54), lon(120), time(1800)\n    variables(dimensions): float64 \u001b[4mlat\u001b[0m(lat), float64 \u001b[4mlon\u001b[0m(lon), float32 \u001b[4mpr\u001b[0m(time,lat,lon), float32 \u001b[4mtasmax\u001b[0m(time,lat,lon), float32 \u001b[4mtasmin\u001b[0m(time,lat,lon), float64 \u001b[4mtime\u001b[0m(time)\n    groups: \n\n"
     ]
    }
   ],
   "source": [
    "%matplotlib inline\n",
    "import os\n",
    "import netCDF4 as nc\n",
    "from netCDF4 import Dataset\n",
    "\n",
    "basedir = 'netcdf'\n",
    "filename = 'hadgem2-es_rcp6p0_1950-2099_monthly_US.nc4'\n",
    "fn = os.path.join(basedir, filename)\n",
    "\n",
    "hadgem = Dataset(fn, 'r')\n",
    "print(hadgem)"
   ]
  },
  {
   "cell_type": "code",
   "execution_count": 5,
   "metadata": {},
   "outputs": [
    {
     "data": {
      "text/plain": [
       "OrderedDict([('lat',\n              <class 'netCDF4._netCDF4.Dimension'>: name = 'lat', size = 54),\n             ('lon',\n              <class 'netCDF4._netCDF4.Dimension'>: name = 'lon', size = 120),\n             ('time',\n              <class 'netCDF4._netCDF4.Dimension'> (unlimited): name = 'time', size = 1800)])"
      ]
     },
     "execution_count": 5,
     "metadata": {},
     "output_type": "execute_result"
    }
   ],
   "source": [
    "hadgem.dimensions"
   ]
  },
  {
   "cell_type": "code",
   "execution_count": 28,
   "metadata": {
    "collapsed": true
   },
   "outputs": [
    {
     "data": {
      "text/plain": [
       "OrderedDict([('lat', <class 'netCDF4._netCDF4.Variable'>\n              float64 lat(lat)\n                  standard_name: latitude\n                  long_name: latitude\n                  units: degrees_north\n                  axis: Y\n              unlimited dimensions: \n              current shape = (54,)\n              filling on, default _FillValue of 9.969209968386869e+36 used),\n             ('lon', <class 'netCDF4._netCDF4.Variable'>\n              float64 lon(lon)\n                  standard_name: longitude\n                  long_name: longitude\n                  units: degrees_east\n                  axis: X\n              unlimited dimensions: \n              current shape = (120,)\n              filling on, default _FillValue of 9.969209968386869e+36 used),\n             ('pr', <class 'netCDF4._netCDF4.Variable'>\n              float32 pr(time, lat, lon)\n                  long_name: total precipitation\n                  units: kg m-2 s-1\n                  _FillValue: 1e+20\n                  comment: includes all types (rain, snow, large-scale, convective, etc.)\n              unlimited dimensions: time\n              current shape = (1800, 54, 120)\n              filling on),\n             ('tasmax', <class 'netCDF4._netCDF4.Variable'>\n              float32 tasmax(time, lat, lon)\n                  long_name: daily maximum surface air temperature\n                  units: K\n                  _FillValue: 1e+20\n              unlimited dimensions: time\n              current shape = (1800, 54, 120)\n              filling on),\n             ('tasmin', <class 'netCDF4._netCDF4.Variable'>\n              float32 tasmin(time, lat, lon)\n                  long_name: daily minimum surface air temperature\n                  units: K\n                  _FillValue: 1e+20\n              unlimited dimensions: time\n              current shape = (1800, 54, 120)\n              filling on),\n             ('time', <class 'netCDF4._netCDF4.Variable'>\n              float64 time(time)\n                  standard_name: time\n                  calendar: standard\n                  units: months since 1950-01-01 00:00:00\n              unlimited dimensions: time\n              current shape = (1800,)\n              filling on, default _FillValue of 9.969209968386869e+36 used)])"
      ]
     },
     "execution_count": 28,
     "metadata": {},
     "output_type": "execute_result"
    }
   ],
   "source": [
    "hadgem.variables"
   ]
  },
  {
   "cell_type": "code",
   "execution_count": 27,
   "metadata": {},
   "outputs": [],
   "source": [
    "import matplotlib.pyplot as plt\n",
    "\n",
    "fig = plt.figure(figsize=(12, 12))\n",
    "for i in range(16):\n",
    "    ax = fig.add_subplot(4, 4, i+1)\n",
    "    ax.imshow(hadgem.variables['tasmax'][i, :, :])\n",
    "plt.show()\n"
   ]
  },
  {
   "cell_type": "code",
   "execution_count": null,
   "metadata": {},
   "outputs": [],
   "source": []
  }
 ],
 "metadata": {
  "kernelspec": {
   "display_name": "Python 2",
   "language": "python",
   "name": "python2"
  },
  "language_info": {
   "codemirror_mode": {
    "name": "ipython",
    "version": 2
   },
   "file_extension": ".py",
   "mimetype": "text/x-python",
   "name": "python",
   "nbconvert_exporter": "python",
   "pygments_lexer": "ipython2",
   "version": "2.7.6"
  }
 },
 "nbformat": 4,
 "nbformat_minor": 0
}
