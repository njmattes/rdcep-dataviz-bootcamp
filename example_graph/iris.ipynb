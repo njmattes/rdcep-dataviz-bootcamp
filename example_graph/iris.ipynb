{
 "cells": [
  {
   "cell_type": "markdown",
   "metadata": {},
   "source": [
    "# The iris data\n",
    "\n",
    "Using what you learned about ensemble plots and scatter plots while working with the Anscombe quartet, create a 4 by 4 ensemble of scatterplots of the iris data. Your plot should resemble the one found here: [en.wikipedia.org/wiki/Iris_flower_data_set#/media/File:Iris_dataset_scatterplot.svg](https://en.wikipedia.org/wiki/Iris_flower_data_set#/media/File:Iris_dataset_scatterplot.svg), however you are are encouraged to improve upon these graphical decisions. "
   ]
  },
  {
   "cell_type": "code",
   "execution_count": 13,
   "metadata": {
    "collapsed": true
   },
   "outputs": [],
   "source": [
    "import matplotlib.pyplot as plt\n",
    "import pandas as pd\n",
    "\n",
    "df = pd.read_csv('./example_graph/iris.csv')\n",
    "# Note that we're not creating a figure and axes together.\n",
    "# It's possible to create axes within the figure one at \n",
    "# a time, which is often preferable when working with \n",
    "# many axes in an ensemble.\n",
    "fig = plt.figure(figsize=(12, 12))\n",
    "# The syntax for this argument is [rows][columns][order]. \n",
    "# So 441 menas 4 rows, 4 colomns, this is the first chart \n",
    "# (assuming z-order, or left-to-right, top-to-bottom.\n",
    "ax1 = fig.add_subplot(441)\n",
    "# Incidentally, since `matplotlib` functions tend to be \n",
    "# overloaded, this is equivalent to: \n",
    "# fig.add_subplot(4, 4, 1) \n",
    "ax1.scatter(df['sepal_length'], df['sepal_width'])\n",
    "plt.show()\n"
   ]
  },
  {
   "cell_type": "markdown",
   "metadata": {},
   "source": [
    "Obviously we'd like each species of flower to be colored differently in these plots. I'll leave it to you to work out a solution for this. One way to approach it is like so ..."
   ]
  },
  {
   "cell_type": "code",
   "execution_count": 15,
   "metadata": {},
   "outputs": [
    {
     "name": "stdout",
     "output_type": "stream",
     "text": [
      "[0, 0, 0, 1, 2, 1, 1, 0, 2]\n"
     ]
    }
   ],
   "source": [
    "vars = ['foo', 'foo', 'foo', 'bar', 'baz', 'bar', 'bar', 'foo', 'baz']\n",
    "hues = [['foo', 'bar', 'baz'].index(vars[i]) for i in range(len(vars))]\n",
    "print(hues)"
   ]
  },
  {
   "cell_type": "markdown",
   "metadata": {},
   "source": [
    "## Cutomizing `matplotlib`\n",
    "\n",
    "Sometimes it might be preferable to pass fewer `kwargs` to your functions. Especially if you find yourself passing the same lineweights, colormaps, etc. You can modify `matplotlib`'s defaults with the following code, and a list of the available parameters can be found here: [matplotlib.org/api/matplotlib_configuration_api.html#matplotlib.rcParams](https://matplotlib.org/api/matplotlib_configuration_api.html#matplotlib.rcParams)"
   ]
  },
  {
   "cell_type": "code",
   "execution_count": 16,
   "metadata": {},
   "outputs": [],
   "source": [
    "import matplotlib as mpl\n",
    "mpl.rcParams['image.cmap'] = 'Paired'\n",
    "mpl.rcParams['lines.linewidth'] = 1\n",
    "mpl.rcParams['lines.color'] = 'r'\n"
   ]
  },
  {
   "cell_type": "code",
   "execution_count": null,
   "metadata": {},
   "outputs": [],
   "source": []
  }
 ],
 "metadata": {
  "kernelspec": {
   "display_name": "Python 2",
   "language": "python",
   "name": "python2"
  },
  "language_info": {
   "codemirror_mode": {
    "name": "ipython",
    "version": 2
   },
   "file_extension": ".py",
   "mimetype": "text/x-python",
   "name": "python",
   "nbconvert_exporter": "python",
   "pygments_lexer": "ipython2",
   "version": "2.7.6"
  }
 },
 "nbformat": 4,
 "nbformat_minor": 0
}
